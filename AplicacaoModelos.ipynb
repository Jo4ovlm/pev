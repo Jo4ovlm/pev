{
 "cells": [
  {
   "cell_type": "markdown",
   "id": "6f2a5b9c",
   "metadata": {},
   "source": [
    "Rede Neural"
   ]
  },
  {
   "cell_type": "code",
   "execution_count": 12,
   "id": "ebf19d0f",
   "metadata": {},
   "outputs": [],
   "source": [
    "import pandas as pd\n",
    "import numpy as np\n",
    "#from sklearn.neural_network import MLPRegressor\n",
    "from sklearn.metrics import mean_absolute_error, mean_squared_error, root_mean_squared_error, root_mean_squared_log_error, r2_score\n",
    "from sklearn.model_selection import train_test_split\n",
    "#import matplotlib.pyplot as plt"
   ]
  },
  {
   "cell_type": "code",
   "execution_count": null,
   "id": "f7ef97f6",
   "metadata": {},
   "outputs": [],
   "source": [
    "data = pd.read_csv(\"DistanciaEMediasPevs.csv\", delimiter=\",\")\n",
    "\n",
    "X = data.drop(\"MediaRendimento\", axis=1)\n",
    "X = X.drop(\"PEV\", axis=1)\n",
    "y = data.MediaRendimento"
   ]
  },
  {
   "cell_type": "code",
   "execution_count": null,
   "id": "892e4d3c",
   "metadata": {},
   "outputs": [],
   "source": [
    "X_train, X_test, y_train, y_test = train_test_split(X,y,test_size=0.2)"
   ]
  },
  {
   "cell_type": "code",
   "execution_count": null,
   "id": "5c6b0798",
   "metadata": {},
   "outputs": [],
   "source": [
    "hidden_layers = (200,100,50,25)\n",
    "mlp_model = MLPRegressor(\n",
    "    hidden_layer_sizes=hidden_layers,\n",
    "    activation='relu',\n",
    "    solver='adam',\n",
    "    alpha=0.0001,\n",
    "    learning_rate_init=0.0003,\n",
    "    max_iter=1000,\n",
    "    random_state=42,\n",
    "    early_stopping=True,\n",
    "    n_iter_no_change=25\n",
    ")\n",
    "\n",
    "mlp_model.fit(X_train,y_train)\n",
    "\n",
    "y_Predito = mlp_model.predict(X_test)"
   ]
  },
  {
   "cell_type": "code",
   "execution_count": 10,
   "id": "e788969c",
   "metadata": {},
   "outputs": [],
   "source": [
    "def metricas(y_test, y_Predito):\n",
    "    mae = mean_absolute_error(y_test, y_Predito)\n",
    "    mqe = mean_squared_error(y_test, y_Predito)\n",
    "    rmqe = root_mean_squared_error(y_test, y_Predito)\n",
    "    rmqle = root_mean_squared_log_error(y_test, y_Predito)\n",
    "    r2 = r2_score(y_test, y_Predito)\n",
    "\n",
    "    print(f\"Mean Absolute Error: {mae}\")\n",
    "    print(f\"Mean Squared Error: {mqe}\")\n",
    "    print(f\"Root Mean Squared Error: {rmqe}\")\n",
    "    print(f\"Root Mean Squared Log Error: {rmqle}\")\n",
    "    print(f\"R Squared: {r2}\")"
   ]
  },
  {
   "cell_type": "code",
   "execution_count": null,
   "id": "3751fa49",
   "metadata": {},
   "outputs": [],
   "source": [
    "plt.scatter(y_test, y_Predito)\n",
    "plt.show()"
   ]
  },
  {
   "cell_type": "markdown",
   "id": "d349ce27",
   "metadata": {},
   "source": [
    "Meu modelo"
   ]
  },
  {
   "cell_type": "markdown",
   "id": "27773d1d",
   "metadata": {},
   "source": [
    "Calcula a distância para todos os outros registros do conjunto"
   ]
  },
  {
   "cell_type": "code",
   "execution_count": null,
   "id": "6a9d88bf",
   "metadata": {},
   "outputs": [],
   "source": [
    "from myModel import myModel"
   ]
  },
  {
   "cell_type": "code",
   "execution_count": 19,
   "id": "0f07ca0f",
   "metadata": {},
   "outputs": [
    {
     "data": {
      "text/plain": [
       "PEV\n",
       "100.0    319.095000\n",
       "109.0    505.000000\n",
       "2.0      140.451667\n",
       "143.0    520.798500\n",
       "90.0     376.921765\n",
       "            ...    \n",
       "31.0     365.000000\n",
       "97.0     387.690000\n",
       "77.0     297.658947\n",
       "40.0     255.807143\n",
       "134.0    452.522941\n",
       "Name: MediaRendimento, Length: 122, dtype: float64"
      ]
     },
     "execution_count": 19,
     "metadata": {},
     "output_type": "execute_result"
    }
   ],
   "source": [
    "df = pd.read_csv(\"localERendimento.csv\", delimiter=\",\", index_col=\"PEV\")\n",
    "\n",
    "X = df.drop(\"MediaRendimento\", axis=1)\n",
    "y = df.MediaRendimento\n",
    "\n",
    "X_train, X_test, y_train, y_test = train_test_split(X,y, test_size=0.2)\n",
    "\n",
    "#X_train = geraTabelaComDistancias(X_train)\n",
    "\n",
    "\n",
    "\n",
    "X_train = X_train.reset_index(drop=True)\n",
    "y_train"
   ]
  },
  {
   "cell_type": "markdown",
   "id": "ead1b4ee",
   "metadata": {},
   "source": [
    "Cria a tabela com as distancias "
   ]
  },
  {
   "cell_type": "code",
   "execution_count": 4,
   "id": "16749b4b",
   "metadata": {},
   "outputs": [],
   "source": [
    "import criadorTabelaDistancia"
   ]
  },
  {
   "cell_type": "code",
   "execution_count": 17,
   "id": "237e9156",
   "metadata": {},
   "outputs": [],
   "source": [
    "def tabelaDistancia(tabela):\n",
    "    ctd = criadorTabelaDistancia.criadorTabelaDistancia(X)\n",
    "\n",
    "    distcols = [\"distanciaPev\" + str(i) for i in X.index]\n",
    "\n",
    "    newDF = pd.DataFrame(columns=[\"latitude\",\"longitude\"] +distcols)\n",
    "\n",
    "    for i,row in tabela.iterrows():\n",
    "        distancias = ctd.calculaDistancias(row[\"latitude\"],row[\"longitude\"])\n",
    "        cols = [row[\"latitude\"], row[\"longitude\"]] + distancias.tolist()\n",
    "        newDF.loc[len(newDF)] = cols\n",
    "        \n",
    "    return newDF\n",
    "    "
   ]
  },
  {
   "cell_type": "code",
   "execution_count": 20,
   "id": "08d42736",
   "metadata": {},
   "outputs": [],
   "source": [
    "X_train = tabelaDistancia(X_train)\n",
    "X_test = tabelaDistancia(X_test)"
   ]
  },
  {
   "cell_type": "markdown",
   "id": "46843642",
   "metadata": {},
   "source": [
    "Minimiza função f(x) do meu modelo"
   ]
  },
  {
   "cell_type": "code",
   "execution_count": 7,
   "id": "a8113134",
   "metadata": {},
   "outputs": [],
   "source": [
    "from scipy.optimize import minimize"
   ]
  },
  {
   "cell_type": "code",
   "execution_count": null,
   "id": "4d23b7a7",
   "metadata": {},
   "outputs": [],
   "source": [
    "#print(newDF)\n",
    "X_train"
   ]
  },
  {
   "cell_type": "code",
   "execution_count": null,
   "id": "827f3832",
   "metadata": {},
   "outputs": [],
   "source": [
    "y_train"
   ]
  },
  {
   "cell_type": "code",
   "execution_count": 40,
   "id": "81b78c85",
   "metadata": {},
   "outputs": [
    {
     "name": "stdout",
     "output_type": "stream",
     "text": [
      " message: Optimization terminated successfully\n",
      " success: True\n",
      "  status: 0\n",
      "     fun: 4717416.8385913605\n",
      "       x: [ 3.691e+04 -4.193e+04  3.152e+04 -4.869e+04]\n",
      "     nit: 50\n",
      "     jac: [ 0.000e+00  0.000e+00  0.000e+00  0.000e+00]\n",
      "    nfev: 338\n",
      "    njev: 50\n",
      "Melhores parâmetros: [ 36914.61896284 -41928.00135085  31523.53842563 -48694.16295165]\n",
      "Erro mínimo: 4717416.8385913605\n"
     ]
    }
   ],
   "source": [
    "model = myModel()\n",
    "\n",
    "x0 = [2,3,4,5]\n",
    "bounds = [(-100, 100)] * 4 \n",
    "\n",
    "res = minimize(lambda params: model.calculaErro(params, X_train, y_train), x0, method=\"SLSQP\")\n",
    "\n",
    "\n",
    "print(res)\n",
    "print(\"Melhores parâmetros:\", res.x)\n",
    "print(\"Erro mínimo:\", res.fun)"
   ]
  },
  {
   "cell_type": "code",
   "execution_count": null,
   "id": "65e916f1",
   "metadata": {},
   "outputs": [],
   "source": [
    "y_pred = model.preve(res.x,X_test,y_train)"
   ]
  },
  {
   "cell_type": "code",
   "execution_count": 42,
   "id": "e43f93e0",
   "metadata": {},
   "outputs": [
    {
     "name": "stdout",
     "output_type": "stream",
     "text": [
      "Mean Absolute Error: 191.02658484485235\n",
      "Mean Squared Error: 62705.77693740272\n",
      "Root Mean Squared Error: 250.41121567813755\n",
      "Root Mean Squared Log Error: 0.6131698392990476\n",
      "R Squared: -0.7953495082565176\n"
     ]
    }
   ],
   "source": [
    "#X_test\n",
    "#y_test\n",
    "\n",
    "metricas(y_test,y_pred)"
   ]
  }
 ],
 "metadata": {
  "kernelspec": {
   "display_name": "Python 3",
   "language": "python",
   "name": "python3"
  },
  "language_info": {
   "codemirror_mode": {
    "name": "ipython",
    "version": 3
   },
   "file_extension": ".py",
   "mimetype": "text/x-python",
   "name": "python",
   "nbconvert_exporter": "python",
   "pygments_lexer": "ipython3",
   "version": "3.12.6"
  }
 },
 "nbformat": 4,
 "nbformat_minor": 5
}
