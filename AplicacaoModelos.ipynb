{
 "cells": [
  {
   "cell_type": "markdown",
   "id": "6f2a5b9c",
   "metadata": {},
   "source": [
    "Rede Neural"
   ]
  },
  {
   "cell_type": "code",
   "execution_count": 1,
   "id": "ebf19d0f",
   "metadata": {},
   "outputs": [],
   "source": [
    "import pandas as pd\n",
    "import numpy as np\n",
    "from sklearn.neural_network import MLPRegressor\n",
    "from sklearn.metrics import mean_absolute_error, mean_squared_error, root_mean_squared_error, root_mean_squared_log_error, r2_score\n",
    "from sklearn.model_selection import train_test_split\n",
    "import matplotlib.pyplot as plt"
   ]
  },
  {
   "cell_type": "code",
   "execution_count": null,
   "id": "f7ef97f6",
   "metadata": {},
   "outputs": [],
   "source": [
    "data = pd.read_csv(\"DistanciaEMediasPevs.csv\", delimiter=\",\")\n",
    "\n",
    "X = data.drop(\"MediaRendimento\", axis=1)\n",
    "X = X.drop(\"PEV\", axis=1)\n",
    "y = data.MediaRendimento"
   ]
  },
  {
   "cell_type": "code",
   "execution_count": 16,
   "id": "892e4d3c",
   "metadata": {},
   "outputs": [],
   "source": [
    "X_train, X_test, y_train, y_test = train_test_split(X,y,test_size=0.2)"
   ]
  },
  {
   "cell_type": "code",
   "execution_count": 19,
   "id": "5c6b0798",
   "metadata": {},
   "outputs": [],
   "source": [
    "hidden_layers = (200,100,50,25)\n",
    "mlp_model = MLPRegressor(\n",
    "    hidden_layer_sizes=hidden_layers,\n",
    "    activation='relu',\n",
    "    solver='adam',\n",
    "    alpha=0.0001,\n",
    "    learning_rate_init=0.0003,\n",
    "    max_iter=1000,\n",
    "    random_state=42,\n",
    "    early_stopping=True,\n",
    "    n_iter_no_change=25\n",
    ")\n",
    "\n",
    "mlp_model.fit(X_train,y_train)\n",
    "\n",
    "y_Predito = mlp_model.predict(X_test)"
   ]
  },
  {
   "cell_type": "code",
   "execution_count": 23,
   "id": "e788969c",
   "metadata": {},
   "outputs": [
    {
     "name": "stdout",
     "output_type": "stream",
     "text": [
      "Mean Absolute Error: 94.60529635474285\n",
      "Mean Squared Error: 18319.13207837734\n",
      "Root Mean Squared Error: 135.3481883084415\n",
      "Root Mean Squared Log Error: 0.39063820166255553\n",
      "R Squared: 0.0048577936627566265\n"
     ]
    }
   ],
   "source": [
    "mae = mean_absolute_error(y_test, y_Predito)\n",
    "mqe = mean_squared_error(y_test, y_Predito)\n",
    "rmqe = root_mean_squared_error(y_test, y_Predito)\n",
    "rmqle = root_mean_squared_log_error(y_test, y_Predito)\n",
    "r2 = r2_score(y_test, y_Predito)\n",
    "\n",
    "print(f\"Mean Absolute Error: {mae}\")\n",
    "print(f\"Mean Squared Error: {mqe}\")\n",
    "print(f\"Root Mean Squared Error: {rmqe}\")\n",
    "print(f\"Root Mean Squared Log Error: {rmqle}\")\n",
    "print(f\"R Squared: {r2}\")"
   ]
  },
  {
   "cell_type": "code",
   "execution_count": 25,
   "id": "3751fa49",
   "metadata": {},
   "outputs": [
    {
     "data": {
      "image/png": "[encoded data removed]",
      "text/plain": [
       "<Figure size 640x480 with 1 Axes>"
      ]
     },
     "metadata": {},
     "output_type": "display_data"
    }
   ],
   "source": [
    "plt.scatter(y_test, y_Predito)\n",
    "plt.show()"
   ]
  },
  {
   "cell_type": "markdown",
   "id": "d349ce27",
   "metadata": {},
   "source": [
    "Meu modelo"
   ]
  },
  {
   "cell_type": "markdown",
   "id": "27773d1d",
   "metadata": {},
   "source": [
    "Calcula a distância para todos os outros registros do conjunto"
   ]
  },
  {
   "cell_type": "code",
   "execution_count": 2,
   "id": "6a9d88bf",
   "metadata": {},
   "outputs": [],
   "source": [
    "from math import radians, sin, cos, sqrt, atan2\n",
    "from myModel import myModel"
   ]
  },
  {
   "cell_type": "code",
   "execution_count": 3,
   "id": "366e8332",
   "metadata": {},
   "outputs": [],
   "source": [
    "def distancia(lat1,long1,lat2,long2):\n",
    "    R = 6371  # Raio da Terra em km\n",
    "    lat1, lon1, lat2, lon2 = map(radians, [lat1, long1, lat2, long2])\n",
    "    dlat = lat2 - lat1\n",
    "    dlon = lon2 - lon1\n",
    "    a = sin(dlat/2)**2 + cos(lat1)*cos(lat2)*sin(dlon/2)**2\n",
    "    c = 2 * atan2(sqrt(a), sqrt(1-a))\n",
    "    return R * c # Retorna distancia em km"
   ]
  },
  {
   "cell_type": "code",
   "execution_count": 4,
   "id": "560be5be",
   "metadata": {},
   "outputs": [],
   "source": [
    "def geraTabelaComDistancias(dataset):\n",
    "    \n",
    "    distCols = [\"distanciaPev\" + str(i) for i in dataset.index]\n",
    "    newDf = pd.DataFrame(columns=[\"latitude\", \"longitude\"] + distCols)\n",
    "\n",
    "    for i,row in dataset.iterrows():\n",
    "        cols = np.zeros(len(distCols)+2)\n",
    "        cols[0] = row[\"latitude\"]\n",
    "        cols[1] = row[\"longitude\"]\n",
    "        k=2\n",
    "        for j, rowj in dataset.iterrows():\n",
    "            cols[k] = distancia(row[\"latitude\"], row[\"longitude\"], rowj[\"latitude\"], rowj[\"longitude\"])\n",
    "            k +=1\n",
    "        newDf.loc[len(newDf)] = cols\n",
    "    \n",
    "    return newDf    "
   ]
  },
  {
   "cell_type": "code",
   "execution_count": 8,
   "id": "0f07ca0f",
   "metadata": {},
   "outputs": [],
   "source": [
    "df = pd.read_csv(\"localERendimento.csv\", delimiter=\",\", index_col=\"PEV\")\n",
    "\n",
    "X = df.drop(\"MediaRendimento\", axis=1)\n",
    "y = df.MediaRendimento\n",
    "\n",
    "X_train, X_test, y_train, y_test = train_test_split(X,y, test_size=0.2)\n",
    "\n",
    "X_train = geraTabelaComDistancias(X_train)\n",
    "\n",
    "X_train = X_train.reset_index(drop=True)\n",
    "y_train = y_train.reset_index(drop=True)"
   ]
  },
  {
   "cell_type": "markdown",
   "id": "46843642",
   "metadata": {},
   "source": [
    "Minimiza função f(x) do meu modelo"
   ]
  },
  {
   "cell_type": "code",
   "execution_count": 9,
   "id": "a8113134",
   "metadata": {},
   "outputs": [],
   "source": [
    "from scipy.optimize import minimize"
   ]
  },
  {
   "cell_type": "code",
   "execution_count": 10,
   "id": "81b78c85",
   "metadata": {},
   "outputs": [
    {
     "name": "stderr",
     "output_type": "stream",
     "text": [
      "d:\\Trabalho\\Nova pasta\\pev\\myModel.py:16: FutureWarning: Series.__getitem__ treating keys as positions is deprecated. In a future version, integer keys will always be treated as labels (consistent with DataFrame behavior). To access a value by position, use `ser.iloc[pos]`\n",
      "  valor = self.f(params, row[j])\n"
     ]
    },
    {
     "name": "stdout",
     "output_type": "stream",
     "text": [
      "  message: Optimization terminated successfully.\n",
      "  success: True\n",
      "   status: 0\n",
      "      fun: 4.9479375459379226e-24\n",
      "        x: [ 1.000e+00  2.000e+00  3.000e+00  4.000e+00]\n",
      "      nit: 0\n",
      "      jac: [-7.194e-17 -8.390e-17 -5.856e-17 -1.952e-18]\n",
      " hess_inv: [[1 0 0 0]\n",
      "            [0 1 0 0]\n",
      "            [0 0 1 0]\n",
      "            [0 0 0 1]]\n",
      "     nfev: 5\n",
      "     njev: 1\n",
      "Melhores parâmetros: [1. 2. 3. 4.]\n",
      "Erro mínimo: 4.9479375459379226e-24\n"
     ]
    }
   ],
   "source": [
    "model = myModel()\n",
    "\n",
    "x0 = [1,2,3,4]\n",
    "\n",
    "res = minimize(lambda params: model.fit(params, X_train, y_train), x0)\n",
    "\n",
    "print(res)\n",
    "print(\"Melhores parâmetros:\", res.x)\n",
    "print(\"Erro mínimo:\", res.fun)"
   ]
  }
 ],
 "metadata": {
  "kernelspec": {
   "display_name": "Python 3",
   "language": "python",
   "name": "python3"
  },
  "language_info": {
   "codemirror_mode": {
    "name": "ipython",
    "version": 3
   },
   "file_extension": ".py",
   "mimetype": "text/x-python",
   "name": "python",
   "nbconvert_exporter": "python",
   "pygments_lexer": "ipython3",
   "version": "3.11.5"
  }
 },
 "nbformat": 4,
 "nbformat_minor": 5
}
