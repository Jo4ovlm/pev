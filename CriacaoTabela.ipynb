{
 "cells": [
  {
   "cell_type": "markdown",
   "id": "1edde456",
   "metadata": {},
   "source": [
    "Transformar as tabelas local.csv e saida_series_temporais.xlsx em uma tabela com a estrutura: {Nome da PEV, Latitude, Longitude, [Distancia para todas as outras Pevs], Media de produção}\n"
   ]
  },
  {
   "cell_type": "code",
   "execution_count": 2,
   "id": "ca97ba9c",
   "metadata": {},
   "outputs": [],
   "source": [
    "import pandas as pd\n",
    "from datetime import datetime\n",
    "import numpy as np"
   ]
  },
  {
   "cell_type": "markdown",
   "id": "c18d657b",
   "metadata": {},
   "source": [
    "Transformando os registros por mes em médias de rendimento "
   ]
  },
  {
   "cell_type": "code",
   "execution_count": 2,
   "id": "356506c4",
   "metadata": {},
   "outputs": [],
   "source": [
    "def diff_month(d1, d2):\n",
    "    diff = (d1.year - d2.year) * 12 + d1.month - d2.month\n",
    "    if(diff != 0): return diff\n",
    "    else: return 1 "
   ]
  },
  {
   "cell_type": "code",
   "execution_count": 57,
   "id": "255a2505",
   "metadata": {},
   "outputs": [],
   "source": [
    "df = pd.read_csv(\"saida_series_temporais - SemiTratado.csv\", delimiter=\",\")\n",
    "\n",
    "newDf = pd.DataFrame(columns=[\"PEV\", \"MediaRendimento\"])\n",
    "\n",
    "for i in range (1,195):\n",
    "    registrosPev = df.loc[df[\"LOCAL\"] == i]\n",
    "    \n",
    "    maiordata = 0; menordata = 0; soma = 0; media = 0\n",
    "    for index,row in registrosPev.iterrows():\n",
    "        soma += float(row[\"VALOR\"])\n",
    "        d = row[\"DATA\"]\n",
    "        dataAtual = datetime(int(d[0:4]),int(d[4:6]),int(d[6:8]),int(d[9:11]),int(d[12:14]),int(d[15:17])) # converte a data em str pra datetime\n",
    "        if(maiordata == 0 and menordata == 0):\n",
    "            maiordata = dataAtual\n",
    "            menordata = dataAtual\n",
    "        if(menordata > dataAtual):\n",
    "            menordata = dataAtual\n",
    "        elif(maiordata < dataAtual):\n",
    "            maiordata = dataAtual    \n",
    "        if(len(registrosPev)>0):      \n",
    "            media = soma / diff_month(maiordata,menordata)\n",
    "    newDf.loc[len(newDf)] = [i,media]\n",
    "\n",
    "newDf.to_csv(\"mediaDeRendimentoPEVs.csv\", index=False)\n"
   ]
  },
  {
   "cell_type": "markdown",
   "id": "7821b347",
   "metadata": {},
   "source": [
    "Criando a tabela final"
   ]
  },
  {
   "cell_type": "code",
   "execution_count": 4,
   "id": "868e173a",
   "metadata": {},
   "outputs": [],
   "source": [
    "from math import radians, sin, cos, sqrt, atan2"
   ]
  },
  {
   "cell_type": "code",
   "execution_count": 5,
   "id": "1f627a0d",
   "metadata": {},
   "outputs": [],
   "source": [
    "def calculaDistancia(lat1,long1,lat2,long2):\n",
    "    R = 6371  # Raio da Terra em km\n",
    "    lat1, lon1, lat2, lon2 = map(radians, [lat1, long1, lat2, long2])\n",
    "    dlat = lat2 - lat1\n",
    "    dlon = lon2 - lon1\n",
    "    a = sin(dlat/2)**2 + cos(lat1)*cos(lat2)*sin(dlon/2)**2\n",
    "    c = 2 * atan2(sqrt(a), sqrt(1-a))\n",
    "    return R * c # Retorna distancia em km"
   ]
  },
  {
   "cell_type": "code",
   "execution_count": 11,
   "id": "b93f64de",
   "metadata": {},
   "outputs": [],
   "source": [
    "dfLocal = pd.read_csv(\"local.csv\", delimiter=\";\")\n",
    "dfMedias = pd.read_csv(\"mediaDeRendimentoPEVs.csv\", delimiter=\",\")\n",
    "\n",
    "dist_cols = [f\"DistanciaPEV{i+1}\" for i in range(len(dfLocal))]\n",
    "newDf = pd.DataFrame(columns=[\"PEV\", \"latitude\", \"longitude\"] + dist_cols + [\"MediaRendimento\"])\n",
    "\n",
    "# Remover espaços extras e linhas vazias em \"PEV\"\n",
    "dfLocal = dfLocal[dfLocal[\"PEV\"].notna()]\n",
    "dfLocal[\"PEV\"] = dfLocal[\"PEV\"].str.strip().str.replace(r\"\\s+\", \" \", regex=True)\n",
    "\n",
    "# Extrair o número do PEV como inteiro\n",
    "dfLocal[\"PEV_NUM\"] = dfLocal[\"PEV\"].str.extract(r\"(\\d+)\").astype(int)\n",
    "\n",
    "\n",
    "# Lista de colunas de distância\n",
    "dist_cols = [f\"DistanciaPEV{num}\" for num in dfLocal[\"PEV_NUM\"]]\n",
    "newDf = pd.DataFrame(columns=[\"PEV\", \"latitude\", \"longitude\"] + dist_cols + [\"MediaRendimento\"])\n",
    "\n",
    "# Preenchendo o novo DataFrame\n",
    "for i, row in dfLocal.iterrows():\n",
    "    cols = [row[\"PEV_NUM\"], row[\"latitude\"], row[\"longitude\"]]\n",
    "\n",
    "    # Calcular distâncias para todos os outros PEVs\n",
    "    for _, row2 in dfLocal.iterrows():\n",
    "        dist = calculaDistancia(row[\"latitude\"], row[\"longitude\"], row2[\"latitude\"], row2[\"longitude\"])\n",
    "        cols.append(dist)\n",
    "\n",
    "    media_row = dfMedias.loc[dfMedias[\"PEV\"] == row[\"PEV_NUM\"]]\n",
    "    media = round(media_row[\"Media de Rendimento\"].values[0],2) if not media_row.empty else None\n",
    "    cols.append(media)\n",
    "\n",
    "    if(media != 0):\n",
    "        newDf.loc[len(newDf)] = cols\n",
    "\n",
    "newDf.to_csv(\"DistanciaEMediasPevs.csv\", index=False)\n",
    "    "
   ]
  },
  {
   "cell_type": "code",
   "execution_count": 6,
   "id": "ff64b487",
   "metadata": {},
   "outputs": [],
   "source": [
    "dfLocal = pd.read_csv(\"local.csv\", delimiter=\";\")\n",
    "\n",
    "dfLocal = dfLocal[dfLocal[\"PEV\"].notna()]\n",
    "# Extrair o número do PEV como inteiro\n",
    "dfLocal[\"PEV_NUM\"] = dfLocal[\"PEV\"].str.extract(r\"(\\d+)\").astype(int)\n",
    "\n",
    "dfLocal = dfLocal.set_index(\"PEV_NUM\")\n",
    "\n",
    "dfLocal = dfLocal[[\"latitude\", \"longitude\"]]"
   ]
  },
  {
   "cell_type": "code",
   "execution_count": 7,
   "id": "456556dd",
   "metadata": {},
   "outputs": [
    {
     "data": {
      "text/html": [
       "<div>\n",
       "<style scoped>\n",
       "    .dataframe tbody tr th:only-of-type {\n",
       "        vertical-align: middle;\n",
       "    }\n",
       "\n",
       "    .dataframe tbody tr th {\n",
       "        vertical-align: top;\n",
       "    }\n",
       "\n",
       "    .dataframe thead th {\n",
       "        text-align: right;\n",
       "    }\n",
       "</style>\n",
       "<table border=\"1\" class=\"dataframe\">\n",
       "  <thead>\n",
       "    <tr style=\"text-align: right;\">\n",
       "      <th></th>\n",
       "      <th>latitude</th>\n",
       "      <th>longitude</th>\n",
       "    </tr>\n",
       "    <tr>\n",
       "      <th>PEV_NUM</th>\n",
       "      <th></th>\n",
       "      <th></th>\n",
       "    </tr>\n",
       "  </thead>\n",
       "  <tbody>\n",
       "    <tr>\n",
       "      <th>1</th>\n",
       "      <td>-27.701280</td>\n",
       "      <td>-49.334159</td>\n",
       "    </tr>\n",
       "    <tr>\n",
       "      <th>2</th>\n",
       "      <td>-27.697261</td>\n",
       "      <td>-49.333901</td>\n",
       "    </tr>\n",
       "    <tr>\n",
       "      <th>3</th>\n",
       "      <td>-27.507223</td>\n",
       "      <td>-49.286285</td>\n",
       "    </tr>\n",
       "    <tr>\n",
       "      <th>4</th>\n",
       "      <td>-27.422946</td>\n",
       "      <td>-48.957696</td>\n",
       "    </tr>\n",
       "    <tr>\n",
       "      <th>5</th>\n",
       "      <td>-27.904127</td>\n",
       "      <td>-49.128131</td>\n",
       "    </tr>\n",
       "    <tr>\n",
       "      <th>...</th>\n",
       "      <td>...</td>\n",
       "      <td>...</td>\n",
       "    </tr>\n",
       "    <tr>\n",
       "      <th>190</th>\n",
       "      <td>-27.491927</td>\n",
       "      <td>-48.725521</td>\n",
       "    </tr>\n",
       "    <tr>\n",
       "      <th>191</th>\n",
       "      <td>-27.499486</td>\n",
       "      <td>-48.662853</td>\n",
       "    </tr>\n",
       "    <tr>\n",
       "      <th>192</th>\n",
       "      <td>-27.277885</td>\n",
       "      <td>-48.852346</td>\n",
       "    </tr>\n",
       "    <tr>\n",
       "      <th>193</th>\n",
       "      <td>-27.240063</td>\n",
       "      <td>-48.633618</td>\n",
       "    </tr>\n",
       "    <tr>\n",
       "      <th>194</th>\n",
       "      <td>-27.694585</td>\n",
       "      <td>-49.339081</td>\n",
       "    </tr>\n",
       "  </tbody>\n",
       "</table>\n",
       "<p>189 rows × 2 columns</p>\n",
       "</div>"
      ],
      "text/plain": [
       "          latitude  longitude\n",
       "PEV_NUM                      \n",
       "1       -27.701280 -49.334159\n",
       "2       -27.697261 -49.333901\n",
       "3       -27.507223 -49.286285\n",
       "4       -27.422946 -48.957696\n",
       "5       -27.904127 -49.128131\n",
       "...            ...        ...\n",
       "190     -27.491927 -48.725521\n",
       "191     -27.499486 -48.662853\n",
       "192     -27.277885 -48.852346\n",
       "193     -27.240063 -48.633618\n",
       "194     -27.694585 -49.339081\n",
       "\n",
       "[189 rows x 2 columns]"
      ]
     },
     "execution_count": 7,
     "metadata": {},
     "output_type": "execute_result"
    }
   ],
   "source": [
    "dfLocal"
   ]
  },
  {
   "cell_type": "code",
   "execution_count": 8,
   "id": "620d3283",
   "metadata": {},
   "outputs": [],
   "source": [
    "dfMedias = pd.read_csv(\"mediaDeRendimentoPEVs.csv\", delimiter=\",\", index_col=\"PEV\")\n",
    "\n",
    "newDf = dfMedias.join(dfLocal)\n",
    "\n",
    "newDf = newDf[newDf.MediaRendimento != 0]\n",
    "\n",
    "newDf.to_csv(\"localERendimento.csv\")\n"
   ]
  }
 ],
 "metadata": {
  "kernelspec": {
   "display_name": "Python 3",
   "language": "python",
   "name": "python3"
  },
  "language_info": {
   "codemirror_mode": {
    "name": "ipython",
    "version": 3
   },
   "file_extension": ".py",
   "mimetype": "text/x-python",
   "name": "python",
   "nbconvert_exporter": "python",
   "pygments_lexer": "ipython3",
   "version": "3.11.5"
  }
 },
 "nbformat": 4,
 "nbformat_minor": 5
}
